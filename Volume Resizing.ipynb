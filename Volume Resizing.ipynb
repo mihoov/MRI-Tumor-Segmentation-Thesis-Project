{
 "cells": [
  {
   "cell_type": "code",
   "execution_count": null,
   "metadata": {},
   "outputs": [],
   "source": [
    "import os\n",
    "import numpy as np\n",
    "import nibabel\n",
    "import matplotlib.pyplot as plt\n",
    "import tensorflow as tf\n",
    "from tqdm import tqdm\n"
   ]
  },
  {
   "cell_type": "code",
   "execution_count": null,
   "metadata": {},
   "outputs": [],
   "source": [
    "flair_files={}\n",
    "t1_files={}\n",
    "t2_files={}\n",
    "t1ce_files={}\n",
    "seg_files={}\n",
    "\n",
    "file_img_root=\"Preprocessed_BraTS_Data\"\n",
    "\n",
    "#creating list of all files\n",
    "for root, dirs, files in os.walk(file_img_root):\n",
    "    for name in files:\n",
    "        indx = name.find('_')\n",
    "        key = name[indx+1:indx+6]\n",
    "        file_path = os.path.join(root, name)\n",
    "            \n",
    "        if 'flair.nii.gz' in name:\n",
    "            flair_files[key] = file_path\n",
    "        elif 't1.nii.gz' in name:\n",
    "            t1_files[key] = file_path\n",
    "        elif 't1ce.nii.gz' in name:\n",
    "            t1ce_files[key] = file_path\n",
    "        elif 't2.nii.gz' in name:\n",
    "            t2_files[key] = file_path\n",
    "        elif 'seg.nii.gz' in name:\n",
    "            seg_files[key] = file_path\n"
   ]
  },
  {
   "cell_type": "code",
   "execution_count": null,
   "metadata": {},
   "outputs": [],
   "source": [
    "#check that every segmentation file (ground truth) has corresponding X data\n",
    "for k in seg_files.keys():\n",
    "    if k not in flair_files.keys():\n",
    "        print('Not found in flair:', k)\n",
    "    if k not in t1_files.keys():\n",
    "        print('Not found in t1:', k)\n",
    "    if k not in t1ce_files.keys():\n",
    "        print('Not found in t1ce:', k)\n",
    "    if k not in t2_files.keys():\n",
    "        print('Not found in t2:', k)"
   ]
  },
  {
   "cell_type": "code",
   "execution_count": null,
   "metadata": {},
   "outputs": [],
   "source": [
    "# didn't find all files for sample 01627\n",
    "del seg_files['01627']\n",
    "len(seg_files)"
   ]
  },
  {
   "cell_type": "code",
   "execution_count": null,
   "metadata": {},
   "outputs": [],
   "source": [
    "def func_resize_depth_and_width(img, new_dims = [120,120]):\n",
    "    resized_img = np.zeros((img.shape[0],new_dims[0], new_dims[1], img.shape[3]))\n",
    "\n",
    "    for i in range(img.shape[0]):\n",
    "        resized_img[i,] = tf.image.resize(img[i], [120,120])\n",
    "    \n",
    "    return resized_img\n",
    "\n",
    "def func_resize_height(img, new_height=80):\n",
    "    resized_img = np.zeros((80,img.shape[1],img.shape[2],img.shape[3]))\n",
    "    \n",
    "    for i in range(img.shape[1]):\n",
    "        resized_img[:,i,:,:] = tf.image.resize(img[:,i,:,:], [80,120])\n",
    "\n",
    "    return resized_img"
   ]
  },
  {
   "cell_type": "code",
   "execution_count": null,
   "metadata": {},
   "outputs": [],
   "source": [
    "save_root = 'Resized_MRI_Volumes'\n",
    "file_prefix = 'resized_sample_'\n",
    "\n",
    "for sample in tqdm(seg_files.keys()):\n",
    "    img_affine = nibabel.load(flair_files[sample]).affine\n",
    "    \n",
    "    img = np.stack((nibabel.load(flair_files[sample]).get_fdata(), \n",
    "                nibabel.load(t1_files[sample]).get_fdata(), \n",
    "                nibabel.load(t1ce_files[sample]).get_fdata(), \n",
    "                nibabel.load(t2_files[sample]).get_fdata()),\n",
    "               axis = -1)\n",
    "    img_resized_dw = func_resize_depth_and_width(img, new_dims=[120,120])\n",
    "    img_resized_all_dims = func_resize_height(img_resized_dw, new_height=80)\n",
    "    \n",
    "    assert(img_resized_all_dims.shape == (80,120,120,4))\n",
    "    \n",
    "    file_name = file_prefix + sample + '.nii'\n",
    "    new_img = nibabel.Nifti1Image(img_resized_all_dims, img_affine)\n",
    "    nibabel.save(new_img, os.path.join(save_root,file_name))\n"
   ]
  },
  {
   "cell_type": "code",
   "execution_count": null,
   "metadata": {},
   "outputs": [],
   "source": [
    "def seg_resize_dw(img, new_dims = [120,120]):\n",
    "    resized_img = np.zeros((img.shape[0],new_dims[0], new_dims[1], img.shape[3]))\n",
    "\n",
    "    for i in range(img.shape[0]):\n",
    "        resized_img[i,] = tf.image.resize(img[i], [120,120])\n",
    "    \n",
    "    return resized_img\n",
    "\n",
    "def seg_resize_h(img, new_height=80):\n",
    "    resized_img = np.zeros((80,img.shape[1],img.shape[2], img.shape[3]))\n",
    "    \n",
    "    for i in range(img.shape[1]):\n",
    "        resized_img[:,i,:] = tf.image.resize(img[:,i,:], [80,120])\n",
    "\n",
    "    return resized_img\n",
    "    "
   ]
  },
  {
   "cell_type": "code",
   "execution_count": null,
   "metadata": {},
   "outputs": [],
   "source": [
    "#resizing segmentation files and using binary labels {0,1}\n",
    "\n",
    "save_root = 'Resized_seg_files'\n",
    "file_prefix = 'resized_'\n",
    "\n",
    "for k, v in tqdm(seg_files.items()):\n",
    "    img = nibabel.load(v)\n",
    "    img_affine = img.affine\n",
    "    img_data = img.get_fdata()\n",
    "    \n",
    "    img_data = np.expand_dims(img_data, axis=-1)\n",
    "    \n",
    "    img_data = seg_resize_dw(img_data, new_dims=[120,120])\n",
    "    img_data = seg_resize_h(img_data, new_height=80)\n",
    "    img_data = (img_data > 0).astype('uint8')\n",
    "    \n",
    "    assert(img_data.shape == (80,120,120,1))\n",
    "    \n",
    "    file_name = file_prefix + k + '.nii.gz'\n",
    "    new_img = nibabel.Nifti1Image(img_data, img_affine)\n",
    "    nibabel.save(new_img, os.path.join(save_root,file_name))\n"
   ]
  }
 ],
 "metadata": {
  "kernelspec": {
   "display_name": "Python 3",
   "language": "python",
   "name": "python3"
  },
  "language_info": {
   "codemirror_mode": {
    "name": "ipython",
    "version": 3
   },
   "file_extension": ".py",
   "mimetype": "text/x-python",
   "name": "python",
   "nbconvert_exporter": "python",
   "pygments_lexer": "ipython3",
   "version": "3.8.5"
  }
 },
 "nbformat": 4,
 "nbformat_minor": 4
}
