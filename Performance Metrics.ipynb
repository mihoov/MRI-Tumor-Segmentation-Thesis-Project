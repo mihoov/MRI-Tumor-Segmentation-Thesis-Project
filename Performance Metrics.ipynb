{
 "cells": [
  {
   "cell_type": "code",
   "execution_count": 1,
   "metadata": {},
   "outputs": [],
   "source": [
    "import keras.backend as K\n",
    "\n",
    "def binary_IoU_coef(y_true, y_pred) -> float:\n",
    "        '''\n",
    "        Computes Intersection-Over-Union also known as Jaccard Index\n",
    "        For binary segmentation\n",
    "\n",
    "        Inputs:\n",
    "        ground_truth: a numpy array of the correct labels\n",
    "        y_preds: a numpy array of the predicted labels\n",
    "        num_classes: an int for the number of classes\n",
    "\n",
    "        Output:\n",
    "        a float of calculated IoU\n",
    "        '''\n",
    "\n",
    "        y_true_vals = K.flatten(y_true)\n",
    "        y_pred_vals = K.flatten(y_pred)\n",
    "        intersection = K.sum(y_true_vals * y_pred_vals)\n",
    "        union =  K.sum(y_true_vals) + K.sum(y_pred_vals) - intersection\n",
    "\n",
    "    \n",
    "        return intersection/union\n",
    "    \n",
    "def binary_dice_coef(y_true, y_pred) -> float:\n",
    "        '''\n",
    "        Computes dice coefficient\n",
    "        For binary class segmentation\n",
    "\n",
    "        Inputs:\n",
    "        ground_truth: a numpy array of the correct labels\n",
    "        y_preds: a numpy array of the predicted labels\n",
    "        num_classes: an int for the number of classes\n",
    "\n",
    "        Output:\n",
    "        a float of dice coefficient]\n",
    "        '''\n",
    "\n",
    "        y_true_vals = K.flatten(y_true)\n",
    "        y_pred_vals = K.flatten(y_pred)\n",
    "        intersection = K.sum(y_true_vals * y_pred_vals)\n",
    "\n",
    "        dice = (2*intersection)/(K.sum(y_true_vals) + K.sum(y_pred_vals))\n",
    "\n",
    "\n",
    "        return dice\n",
    "\n",
    "    \n",
    "def iou_loss(y_true, y_pred):\n",
    "    return 1 - binary_IoU_coef(y_true, y_pred)\n",
    "    "
   ]
  },
  {
   "cell_type": "code",
   "execution_count": null,
   "metadata": {},
   "outputs": [],
   "source": [
    "#didn't find all files for 01627\n",
    "del seg_files['01627']\n",
    "len(seg_files)"
   ]
  },
  {
   "cell_type": "code",
   "execution_count": null,
   "metadata": {},
   "outputs": [],
   "source": [
    "def func_resize_depth_and_width(img, new_dims = [120,120]):\n",
    "    resized_img = np.zeros((img.shape[0],new_dims[0], new_dims[1], img.shape[3]))\n",
    "\n",
    "    for i in range(img.shape[0]):\n",
    "        resized_img[i,] = tf.image.resize(img[i], [120,120])\n",
    "    \n",
    "    return resized_img\n",
    "\n",
    "def func_resize_height(img, new_height=80):\n",
    "    resized_img = np.zeros((80,img.shape[1],img.shape[2],img.shape[3]))\n",
    "    \n",
    "    for i in range(img.shape[1]):\n",
    "        resized_img[:,i,:,:] = tf.image.resize(img[:,i,:,:], [80,120])\n",
    "\n",
    "    return resized_img\n",
    "    "
   ]
  },
  {
   "cell_type": "code",
   "execution_count": null,
   "metadata": {},
   "outputs": [],
   "source": []
  },
  {
   "cell_type": "code",
   "execution_count": null,
   "metadata": {},
   "outputs": [],
   "source": []
  }
 ],
 "metadata": {
  "kernelspec": {
   "display_name": "Python 3",
   "language": "python",
   "name": "python3"
  },
  "language_info": {
   "codemirror_mode": {
    "name": "ipython",
    "version": 3
   },
   "file_extension": ".py",
   "mimetype": "text/x-python",
   "name": "python",
   "nbconvert_exporter": "python",
   "pygments_lexer": "ipython3",
   "version": "3.8.5"
  }
 },
 "nbformat": 4,
 "nbformat_minor": 4
}
